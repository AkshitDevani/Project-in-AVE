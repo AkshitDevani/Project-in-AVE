{
 "cells": [
  {
   "cell_type": "markdown",
   "id": "03e6ecaf-215a-425e-98cc-e30fedc783a8",
   "metadata": {},
   "source": [
    "# Lists, Dictionaries and Tuples"
   ]
  },
  {
   "cell_type": "markdown",
   "id": "acb62d65-c432-46fe-8ed3-64853864a5ab",
   "metadata": {},
   "source": [
    "### Task 1:\n",
    "\n",
    "Consider a dictionary, **adjectives = {\"Cheerful\": \"+\", \"Confident\": \"+\", \"Angry\": \"-\", \"Happy\": \"+\", \"Drowsy\": \"-\", \"Sad\": \"-\", \"Lively\": \"+\", \"Regretful\": \"-\"}**. This dictionary contains some adjectives as keys and the values indicate whether the adjective is **+** or **-** (for example, \"Happy\" is a positive (+) adjective and \"Sad\" is a negative (-) adjective). \n",
    "\n",
    "Create a function called **positive_negative_counter()** which takes in this dictionary as an argument. The function should create two lists namely **positive_adj = []** and **negative_adj = []**. The function should iterate through the dictionary and check if the adjectives are either **+** or **-** and append the two lists with these adjectives repectively. The function should return these lists as items of a tuple which can be unpacked. The expected output is given below for your reference."
   ]
  },
  {
   "cell_type": "code",
   "execution_count": 1,
   "id": "24e4367b-f6eb-41a8-a5c9-47c77539c323",
   "metadata": {},
   "outputs": [
    {
     "name": "stdout",
     "output_type": "stream",
     "text": [
      "Positive adjectives are:  ['Cheerful', 'Confident', 'Happy', 'Lively']\n",
      "Negative adjectives are:  ['Angry', 'Drowsy', 'Sad', 'Regretful']\n"
     ]
    }
   ],
   "source": [
    "# Your code below:\n",
    "# ------------------- \n",
    "\n",
    "adjectives = {\"Cheerful\": \"+\", \"Confident\": \"+\", \"Angry\": \"-\", \"Happy\": \"+\", \"Drowsy\": \"-\", \"Sad\": \"-\", \"Lively\": \"+\", \"Regretful\": \"-\"}\n",
    "\n",
    "def positive_negative_counter(dictionary):\n",
    "    positive_adj, negative_adj = [], []\n",
    "    \n",
    "    for each_adj in dictionary:\n",
    "        if dictionary[each_adj] == \"+\":\n",
    "            positive_adj.append(each_adj)\n",
    "        else:\n",
    "            negative_adj.append(each_adj)\n",
    "\n",
    "    return positive_adj, negative_adj\n",
    "\n",
    "\n",
    "positive, negative = positive_negative_counter(adjectives)\n",
    "\n",
    "print(\"Positive adjectives are: \", positive)\n",
    "print(\"Negative adjectives are: \", negative)"
   ]
  },
  {
   "cell_type": "markdown",
   "id": "4efc34b2-4d57-4066-bd20-7ace539db180",
   "metadata": {},
   "source": [
    "**Expected output:** </br>\n",
    "The positive adjectives are:  ['Cheerful', 'Confident', 'Happy', 'Lively'] </br>\n",
    "The negative adjectives are:  ['Angry', 'Drowsy', 'Sad', 'Regretful'] </br>"
   ]
  },
  {
   "cell_type": "markdown",
   "id": "a9706343",
   "metadata": {},
   "source": [
    "### Note: For-else statements\n",
    "\n",
    "The **else** keyword in a **for** loop specifies a block of code to be executed when the loop is finished **_\"normally\"_**. Some examples are given below."
   ]
  },
  {
   "cell_type": "code",
   "execution_count": 4,
   "id": "7a72b839",
   "metadata": {},
   "outputs": [
    {
     "name": "stdout",
     "output_type": "stream",
     "text": [
      "0\n",
      "1\n",
      "2\n",
      "Done!\n"
     ]
    }
   ],
   "source": [
    "# Example 1:\n",
    "# ------------\n",
    "\n",
    "for i in range(0, 3):\n",
    "    print(i)\n",
    "else:\n",
    "    print(\"Done!\")"
   ]
  },
  {
   "cell_type": "markdown",
   "id": "c5f3b1b6",
   "metadata": {},
   "source": [
    "**NOTE:** If the **for** loop is broken then the **else** statement will not be executed. The **for** loop can be broken using the **break** statement."
   ]
  },
  {
   "cell_type": "code",
   "execution_count": 9,
   "id": "1b5bba75",
   "metadata": {},
   "outputs": [
    {
     "name": "stdout",
     "output_type": "stream",
     "text": [
      "1\n",
      "2\n",
      "10\n",
      "20\n"
     ]
    }
   ],
   "source": [
    "# Example 2: Print all items in a list till 100 is encountered\n",
    "# ------------\n",
    "\n",
    "numbers = [1, 2, 10, 20, 100, 5, 8]\n",
    "\n",
    "for x in numbers:\n",
    "  if x == 100: \n",
    "      break\n",
    "  print(x)\n",
    "else:\n",
    "  print(\"Finally finished!\")"
   ]
  },
  {
   "cell_type": "markdown",
   "id": "e4e6bab3-04d4-437b-9153-453dd18bfb6c",
   "metadata": {},
   "source": [
    "### Task 2: Prime numbers\n",
    "\n",
    "Let **sample_numbers = [1, 2, 3, 4, 5, 6, 7, 8, 9, 10, 11]**. Define a function called **prime_number()** which takes **sample_numbers** as an argument. The function should return a list of prime numbers within the given list. For example, if sample_numbers = [1,2,3,4,5] then the function should return [2,3,5]. "
   ]
  },
  {
   "cell_type": "code",
   "execution_count": 1,
   "id": "725be2c9-8ec0-4e90-9332-ca9a1c9b4cb7",
   "metadata": {},
   "outputs": [
    {
     "name": "stdout",
     "output_type": "stream",
     "text": [
      "[2, 3, 5, 7, 11]\n"
     ]
    }
   ],
   "source": [
    "# Your code below:\n",
    "# -------------------\n",
    "\n",
    "sample_numbers = [1, 2, 3, 4, 5, 6, 7, 8, 9, 10, 11]\n",
    "\n",
    "def prime_number(numbers):\n",
    "    prime = []\n",
    "    \n",
    "    for each_number in numbers:\n",
    "        if each_number > 1:\n",
    "            for i in range(2, each_number):\n",
    "                if not each_number % i:\n",
    "                    break\n",
    "            else:\n",
    "                prime.append(each_number)\n",
    "                \n",
    "    print(prime)\n",
    "    \n",
    "prime_number(sample_numbers)"
   ]
  },
  {
   "cell_type": "markdown",
   "id": "946203b3-8193-4c0e-9a97-996de265b33d",
   "metadata": {},
   "source": [
    "**Expected output:** [2, 3, 5, 7, 11]"
   ]
  },
  {
   "cell_type": "markdown",
   "id": "3242159d-fe8f-4397-af0f-c3f9eac69359",
   "metadata": {},
   "source": [
    "### Task 3:\n",
    "\n",
    "Write a function named **coordinates(x)** that takes a number **x** and prints co-ordinates as tuples using all integers from **1** to **x** in different combinations. For example, **coordinates(x=2)** should **print** coordinates **(1, 1) (1, 2) (2, 1) (2, 2)**."
   ]
  },
  {
   "cell_type": "code",
   "execution_count": 3,
   "id": "195b2be1-5199-4774-b58a-235cd5315951",
   "metadata": {},
   "outputs": [
    {
     "name": "stdout",
     "output_type": "stream",
     "text": [
      "(1, 1)\n",
      "(1, 2)\n",
      "(1, 3)\n",
      "(2, 1)\n",
      "(2, 2)\n",
      "(2, 3)\n",
      "(3, 1)\n",
      "(3, 2)\n",
      "(3, 3)\n"
     ]
    }
   ],
   "source": [
    "# Your code below:\n",
    "# -------------------\n",
    "\n",
    "def coordinates(x):\n",
    "    for i in range(1, x+1):\n",
    "        for j in range(1, x+1):\n",
    "            print((i, j))\n",
    "            \n",
    "coordinates(x=3)"
   ]
  },
  {
   "cell_type": "markdown",
   "id": "12b781e8-e53d-4247-b4de-aa51dbe2b421",
   "metadata": {},
   "source": [
    "**Expected output:** </br>\n",
    "(1, 1)</br>\n",
    "(1, 2)</br>\n",
    "(1, 3)</br>\n",
    "(2, 1)</br>\n",
    "(2, 2)</br>\n",
    "(2, 3)</br>\n",
    "(3, 1)</br>\n",
    "(3, 2)</br>\n",
    "(3, 3)"
   ]
  },
  {
   "cell_type": "markdown",
   "id": "8fab36dd-1de4-48f4-b8d6-238c4220efcb",
   "metadata": {},
   "source": [
    "### Task 4:\n",
    "\n",
    "Let **sample_tuples = [(1,1), (2,1), (3,4), (4,2), (2,2), (5,1)]**. **sample_tuples** is a list consisting of tuples which have two items each. As you can see, some tuples have same items like (1, 1) and some tuples have **(first item > second item)** like (2, 1) and some have the **(second item > first item)** like (3, 4). \n",
    "\n",
    "Your task is to define a function named **count()** and a dictionary named **sample_count = {\"same\":0, \"first\": 0, \"second\":0}**. Now iterate through the list and update the dictionary accordingly. When the tuple items are **same**, \"same\" in **sample_count** should be updated by 1 and when the **first item > second item**, \"first\" should be updated by 1 and when **second item > first item**, \"second\" should be updated by 1. \n",
    "\n",
    "Expected output is given below for your reference ;-)"
   ]
  },
  {
   "cell_type": "code",
   "execution_count": 4,
   "id": "ac176494-1903-4ea6-acba-d9664c17818d",
   "metadata": {},
   "outputs": [
    {
     "name": "stdout",
     "output_type": "stream",
     "text": [
      "{'same': 2, 'first': 3, 'second': 1}\n"
     ]
    }
   ],
   "source": [
    "# Your code below:\n",
    "# -------------------\n",
    "\n",
    "sample_tuples = [(1,1), (2,1), (3,4), (4,2), (2,2), (5,1)]\n",
    "\n",
    "def count(sample_tuples):\n",
    "    sample_count = {\"same\":0, \"first\": 0, \"second\":0}\n",
    "    \n",
    "    for x, y in sample_tuples:\n",
    "        if x == y:\n",
    "            sample_count[\"same\"] += 1\n",
    "        elif x > y:\n",
    "            sample_count[\"first\"] += 1\n",
    "        else:\n",
    "            sample_count[\"second\"] += 1\n",
    "            \n",
    "    print(sample_count)\n",
    "    \n",
    "    \n",
    "count(sample_tuples)"
   ]
  },
  {
   "cell_type": "markdown",
   "id": "6cc9bbc8-a3f0-4c19-bb6b-9071a11d51d8",
   "metadata": {},
   "source": [
    "**Expected output:** {'same': 2, 'first': 3, 'second': 1}"
   ]
  },
  {
   "cell_type": "markdown",
   "id": "79e37011-2fd2-4dd1-9e7f-4cf3b7e0e726",
   "metadata": {},
   "source": [
    "### Task 5: Sorting a list in decending order\n",
    "\n",
    "Python has built-in sorting functions like **sort()** and **sorted()** to sort a given list. However, for the sake of learning, let's define a user-defined function from scratch that takes a list and returns a sorted list in decending order. Your function should work on negative and positive numbers and even decimals.\n",
    "\n",
    "Test your function on **sample_list = [20, 4, 5, 10, 3, 0.6, 8, 0, 1, 2, 30, -4, 50]**"
   ]
  },
  {
   "cell_type": "code",
   "execution_count": 4,
   "id": "da9d4da4",
   "metadata": {},
   "outputs": [
    {
     "name": "stdout",
     "output_type": "stream",
     "text": [
      "Original list:  [20, 4, 5, 10, 3, 0.6, 8, 0, 1, 2, 30, -4, 50]\n",
      "Sorted list:  [50, 30, 20, 10, 8, 5, 4, 3, 2, 1, 0.6, 0, -4]\n"
     ]
    }
   ],
   "source": [
    "# Sorting in Python:\n",
    "# --------------------\n",
    "\n",
    "my_list = [20, 4, 5, 10, 3, 0.6, 8, 0, 1, 2, 30, -4, 50]\n",
    "print(\"Original list: \", my_list)\n",
    "\n",
    "my_list.sort(reverse=True)\n",
    "print(\"Sorted list: \", my_list)"
   ]
  },
  {
   "cell_type": "code",
   "execution_count": 11,
   "id": "98c11377",
   "metadata": {},
   "outputs": [
    {
     "name": "stdout",
     "output_type": "stream",
     "text": [
      "Original list:  [20, 4, 5, 10, 3, 0.6, 8, 0, 1, 2, 30, -4, 50]\n",
      "Sorted list:  [50, 30, 20, 10, 8, 5, 4, 3, 2, 1, 0.6, 0, -4]\n"
     ]
    }
   ],
   "source": [
    "# Your code below: User-defined sorting function\n",
    "# -------------------\n",
    "\n",
    "def sorting_list(sample_list):\n",
    "    sorted_list = []\n",
    "\n",
    "    for _ in range(len(sample_list)):\n",
    "        reference = sample_list[0]\n",
    "\n",
    "        for each_item in sample_list:\n",
    "            if each_item > reference:\n",
    "                reference = each_item\n",
    "\n",
    "        sorted_list.append(reference)\n",
    "        sample_list.remove(reference)\n",
    "\n",
    "    print(\"Sorted list: \", sorted_list)\n",
    "\n",
    "\n",
    "# Testing code: Please do not modify the below code\n",
    "# ---------------\n",
    "my_list = [20, 4, 5, 10, 3, 0.6, 8, 0, 1, 2, 30, -4, 50]\n",
    "print(\"Original list: \", my_list)\n",
    "sorting_list(sample_list=my_list)"
   ]
  },
  {
   "cell_type": "markdown",
   "id": "3a325664",
   "metadata": {},
   "source": [
    "### Expected output: \n",
    "Original list:  [20, 4, 5, 10, 3, 0.6, 8, 0, 1, 2, 30, -4, 50] </br>\n",
    "Sorted list:  [50, 30, 20, 10, 8, 5, 4, 3, 2, 1, 0.6, 0, -4]"
   ]
  },
  {
   "cell_type": "code",
   "execution_count": null,
   "id": "19e61907",
   "metadata": {},
   "outputs": [],
   "source": []
  },
  {
   "cell_type": "code",
   "execution_count": null,
   "id": "f862be08",
   "metadata": {},
   "outputs": [],
   "source": []
  }
 ],
 "metadata": {
  "kernelspec": {
   "display_name": "Python 3",
   "language": "python",
   "name": "python3"
  },
  "language_info": {
   "codemirror_mode": {
    "name": "ipython",
    "version": 3
   },
   "file_extension": ".py",
   "mimetype": "text/x-python",
   "name": "python",
   "nbconvert_exporter": "python",
   "pygments_lexer": "ipython3",
   "version": "3.11.0 (main, Oct 24 2022, 18:26:48) [MSC v.1933 64 bit (AMD64)]"
  },
  "vscode": {
   "interpreter": {
    "hash": "c8253c40f5a8e8444123cac8c8376aceee680d85e33b38d3d60136e9ad5d08d7"
   }
  }
 },
 "nbformat": 4,
 "nbformat_minor": 5
}
